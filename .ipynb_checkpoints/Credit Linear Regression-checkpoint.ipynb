{
 "cells": [
  {
   "cell_type": "code",
   "execution_count": 2,
   "id": "3c8540f0",
   "metadata": {},
   "outputs": [],
   "source": [
    "#libraries\n",
    "import pandas as pd\n",
    "import numpy as np\n",
    "import seaborn as sns\n",
    "import matplotlib as mpl\n",
    "import matplotlib.pyplot as plt\n",
    "from matplotlib.colors import ListedColormap\n",
    "from pylab import rcParams\n",
    "import sklearn\n",
    "from sklearn import neighbors, datasets\n",
    "from sklearn import linear_model\n",
    "from sklearn import preprocessing\n",
    "from sklearn.feature_selection import SelectFromModel\n",
    "from sklearn.model_selection import train_test_split\n",
    "from sklearn.ensemble import RandomForestClassifier\n",
    "from sklearn.ensemble import RandomForestRegressor\n",
    "from sklearn.metrics import accuracy_score\n",
    "from sklearn.metrics import classification_report\n",
    "from sklearn.metrics import confusion_matrix\n",
    "from sklearn.metrics import mean_squared_error\n",
    "from math import sqrt\n",
    "from sklearn.inspection import permutation_importance\n",
    "from sklearn.neighbors import KNeighborsClassifier"
   ]
  },
  {
   "cell_type": "code",
   "execution_count": 84,
   "id": "6e590a86",
   "metadata": {},
   "outputs": [
    {
     "name": "stdout",
     "output_type": "stream",
     "text": [
      "    5  5.1  5.2  5.3  5.4  118  1  1.1  0  1.2  ...   1.6  0.857142857142857  \\\n",
      "0   4    4    4    4    4  109  1    0  0    0  ...  0.80           0.142857   \n",
      "1   4    4    4    4    4  110  1    1  0    1  ...  0.80           0.571429   \n",
      "2   4    4    4    4    4  128  1    1  0    1  ...  0.80           0.857143   \n",
      "3   5    4    3    5    5  137  1    1  0    1  ...  0.88           0.571429   \n",
      "4   4    5    5    3    3  145  1    1  0    1  ...  0.80           0.857143   \n",
      "5   4    3    4    3    4  140  0    1  1    1  ...  0.72           0.714286   \n",
      "6   3    3    3    3    3  105  0    0  0    0  ...  0.60           0.142857   \n",
      "7   4    4    4    3    4  117  1    1  1    1  ...  0.76           0.857143   \n",
      "8   4    5    4    3    4  107  0    0  0    1  ...  0.80           0.285714   \n",
      "9   2    3    2    4    3  105  1    1  0    1  ...  0.56           0.857143   \n",
      "10  4    4    4    4    4  103  0    0  0    0  ...  0.80           0.142857   \n",
      "11  4    4    5    5    4  126  1    1  1    1  ...  0.88           1.000000   \n",
      "12  4    4    4    3    3  141  1    1  0    1  ...  0.72           0.428571   \n",
      "13  4    4    4    3    4  120  1    1  1    1  ...  0.76           1.000000   \n",
      "14  3    3    3    3    3  134  1    1  1    1  ...  0.60           1.000000   \n",
      "15  3    2    3    1    2  102  0    0  1    1  ...  0.44           0.571429   \n",
      "16  4    2    3    3    2  118  1    1  0    1  ...  0.56           0.714286   \n",
      "17  5    4    5    4    4  151  1    1  0    1  ...  0.88           0.857143   \n",
      "18  3    3    3    3    3  102  0    0  0    1  ...  0.60           0.142857   \n",
      "19  4    4    4    4    4  100  0    0  0    1  ...  0.80           0.285714   \n",
      "20  4    4    4    4    4  109  0    1  0    1  ...  0.80           0.428571   \n",
      "21  5    5    5    5    5  130  1    1  1    1  ...  1.00           1.000000   \n",
      "22  4    4    4    4    4  127  1    1  0    1  ...  0.80           0.857143   \n",
      "23  4    4    4    4    4  120  1    1  0    1  ...  0.80           0.857143   \n",
      "24  3    2    3    4    2  107  1    0  0    1  ...  0.56           0.571429   \n",
      "25  2    2    1    3    1   89  0    0  0    0  ...  0.36           0.000000   \n",
      "26  4    4    4    4    4  110  1    0  0    1  ...  0.80           0.571429   \n",
      "27  4    4    4    4    4  109  1    1  0    0  ...  0.80           0.571429   \n",
      "28  3    4    4    3    4  112  1    1  1    1  ...  0.72           1.000000   \n",
      "29  4    3    3    2    3  103  1    0  0    1  ...  0.60           0.571429   \n",
      "30  2    3    2    1    2   84  0    0  0    1  ...  0.40           0.285714   \n",
      "31  3    3    4    3    3  120  1    1  1    1  ...  0.64           1.000000   \n",
      "32  4    4    4    4    4  106  1    0  0    1  ...  0.80           0.428571   \n",
      "33  4    4    4    4    4  108  1    1  0    0  ...  0.80           0.428571   \n",
      "34  4    4    4    4    4  132  1    1  1    1  ...  0.80           1.000000   \n",
      "35  4    4    4    4    4  110  1    1  0    1  ...  0.80           0.571429   \n",
      "\n",
      "    -0.142857142857143  0.857142857142857.1  1.16666666666667       0.2   -4  \\\n",
      "0            -0.657143             0.178571          5.600000  0.000000 -4.0   \n",
      "1            -0.228571             0.714286          1.400000  0.125000 -3.5   \n",
      "2             0.057143             1.071429          0.933333  0.250000 -3.0   \n",
      "3            -0.308571             0.649351          1.540000  0.111111 -4.0   \n",
      "4             0.057143             1.071429          0.933333  0.250000 -3.0   \n",
      "5            -0.005714             0.992063          1.008000  0.142857 -3.0   \n",
      "6            -0.457143             0.238095          4.200000  0.000000 -3.0   \n",
      "7             0.097143             1.127820          0.886667  0.125000 -3.5   \n",
      "8            -0.514286             0.357143          2.800000  0.000000 -4.5   \n",
      "9             0.297143             1.530612          0.653333  0.333333 -2.0   \n",
      "10           -0.657143             0.178571          5.600000  0.125000 -3.5   \n",
      "11            0.120000             1.136364          0.880000  0.250000 -3.0   \n",
      "12           -0.291429             0.595238          1.680000  0.142857 -3.0   \n",
      "13            0.240000             1.315789          0.760000  0.250000 -3.0   \n",
      "14            0.400000             1.666667          0.600000  0.333333 -2.0   \n",
      "15            0.131429             1.298701          0.770000  0.250000 -1.5   \n",
      "16            0.154286             1.275510          0.784000  0.500000 -1.0   \n",
      "17           -0.022857             0.974026          1.026667  0.250000 -3.0   \n",
      "18           -0.457143             0.238095          4.200000  0.000000 -3.0   \n",
      "19           -0.514286             0.357143          2.800000  0.000000 -4.0   \n",
      "20           -0.371429             0.535714          1.866667  0.125000 -3.5   \n",
      "21            0.000000             1.000000          1.000000  0.200000 -4.0   \n",
      "22            0.057143             1.071429          0.933333  0.250000 -3.0   \n",
      "23            0.057143             1.071429          0.933333  0.250000 -3.0   \n",
      "24            0.011429             1.020408          0.980000  0.000000 -2.0   \n",
      "25           -0.360000             0.000000          0.000000  0.000000 -1.5   \n",
      "26           -0.228571             0.714286          1.400000  0.000000 -4.0   \n",
      "27           -0.228571             0.714286          1.400000  0.125000 -3.5   \n",
      "28            0.280000             1.388889          0.720000  0.250000 -3.0   \n",
      "29           -0.028571             0.952381          1.050000  0.166667 -2.5   \n",
      "30           -0.114286             0.714286          1.400000  0.000000 -2.5   \n",
      "31            0.360000             1.562500          0.640000  0.333333 -2.0   \n",
      "32           -0.371429             0.535714          1.866667  0.000000 -4.0   \n",
      "33           -0.371429             0.535714          1.866667  0.125000 -3.5   \n",
      "34            0.200000             1.250000          0.800000  0.250000 -3.0   \n",
      "35           -0.228571             0.714286          1.400000  0.125000 -3.5   \n",
      "\n",
      "         1.7  0.1  690  \n",
      "0   0.000000 -0.8  500  \n",
      "1   0.625000 -0.3  400  \n",
      "2   1.250000  0.2  880  \n",
      "3   0.555556 -0.4  768  \n",
      "4   1.250000  0.2  782  \n",
      "5   0.714286 -0.2  764  \n",
      "6   0.000000 -0.6  320  \n",
      "7   0.625000 -0.3  520  \n",
      "8   0.000000 -0.9  460  \n",
      "9   1.666667  0.4  897  \n",
      "10  0.625000 -0.3  520  \n",
      "11  1.250000  0.2  780  \n",
      "12  0.714286 -0.2  800  \n",
      "13  1.250000  0.2  740  \n",
      "14  1.666667  0.4  810  \n",
      "15  1.250000  0.1  698  \n",
      "16  2.500000  0.6  725  \n",
      "17  1.250000  0.2  802  \n",
      "18  0.000000 -0.6  550  \n",
      "19  0.000000 -0.8  200  \n",
      "20  0.625000 -0.3  530  \n",
      "21  1.000000  0.0  300  \n",
      "22  1.250000  0.2  720  \n",
      "23  1.250000  0.2  800  \n",
      "24  0.000000 -0.4  705  \n",
      "25  0.000000 -0.3  665  \n",
      "26  0.000000 -0.8  350  \n",
      "27  0.625000 -0.3  420  \n",
      "28  1.250000  0.2  780  \n",
      "29  0.833333 -0.1  735  \n",
      "30  0.000000 -0.5  651  \n",
      "31  1.666667  0.4  740  \n",
      "32  0.000000 -0.8  330  \n",
      "33  0.625000 -0.3  560  \n",
      "34  1.250000  0.2  780  \n",
      "35  0.625000 -0.3  510  \n",
      "\n",
      "[36 rows x 23 columns]\n"
     ]
    }
   ],
   "source": [
    "#load data and print dataframe\n",
    "df = pd.read_excel('model_ready_data.xlsx')\n",
    "print (df)"
   ]
  },
  {
   "cell_type": "code",
   "execution_count": 85,
   "id": "b573899c",
   "metadata": {},
   "outputs": [],
   "source": [
    "#assign labels to dataframe columns\n",
    "df.columns = ['A1', 'A2', 'A3', 'A4', 'A5', 'IQ', 'B1', 'B2', 'B3', 'B4', 'B5', 'B6', 'B7', 'C1','C2','C3','C4','C5','C6','C7','C8','C9', 'Credit']"
   ]
  },
  {
   "cell_type": "code",
   "execution_count": 86,
   "id": "dd986eeb",
   "metadata": {},
   "outputs": [
    {
     "name": "stdout",
     "output_type": "stream",
     "text": [
      "    A1  A2  A3  A4  A5   IQ  B1  B2  B3  B4  ...    C1        C2        C3  \\\n",
      "0    4   4   4   4   4  109   1   0   0   0  ...  0.80  0.142857 -0.657143   \n",
      "1    4   4   4   4   4  110   1   1   0   1  ...  0.80  0.571429 -0.228571   \n",
      "2    4   4   4   4   4  128   1   1   0   1  ...  0.80  0.857143  0.057143   \n",
      "3    5   4   3   5   5  137   1   1   0   1  ...  0.88  0.571429 -0.308571   \n",
      "4    4   5   5   3   3  145   1   1   0   1  ...  0.80  0.857143  0.057143   \n",
      "5    4   3   4   3   4  140   0   1   1   1  ...  0.72  0.714286 -0.005714   \n",
      "6    3   3   3   3   3  105   0   0   0   0  ...  0.60  0.142857 -0.457143   \n",
      "7    4   4   4   3   4  117   1   1   1   1  ...  0.76  0.857143  0.097143   \n",
      "8    4   5   4   3   4  107   0   0   0   1  ...  0.80  0.285714 -0.514286   \n",
      "9    2   3   2   4   3  105   1   1   0   1  ...  0.56  0.857143  0.297143   \n",
      "10   4   4   4   4   4  103   0   0   0   0  ...  0.80  0.142857 -0.657143   \n",
      "11   4   4   5   5   4  126   1   1   1   1  ...  0.88  1.000000  0.120000   \n",
      "12   4   4   4   3   3  141   1   1   0   1  ...  0.72  0.428571 -0.291429   \n",
      "13   4   4   4   3   4  120   1   1   1   1  ...  0.76  1.000000  0.240000   \n",
      "14   3   3   3   3   3  134   1   1   1   1  ...  0.60  1.000000  0.400000   \n",
      "15   3   2   3   1   2  102   0   0   1   1  ...  0.44  0.571429  0.131429   \n",
      "16   4   2   3   3   2  118   1   1   0   1  ...  0.56  0.714286  0.154286   \n",
      "17   5   4   5   4   4  151   1   1   0   1  ...  0.88  0.857143 -0.022857   \n",
      "18   3   3   3   3   3  102   0   0   0   1  ...  0.60  0.142857 -0.457143   \n",
      "19   4   4   4   4   4  100   0   0   0   1  ...  0.80  0.285714 -0.514286   \n",
      "20   4   4   4   4   4  109   0   1   0   1  ...  0.80  0.428571 -0.371429   \n",
      "21   5   5   5   5   5  130   1   1   1   1  ...  1.00  1.000000  0.000000   \n",
      "22   4   4   4   4   4  127   1   1   0   1  ...  0.80  0.857143  0.057143   \n",
      "23   4   4   4   4   4  120   1   1   0   1  ...  0.80  0.857143  0.057143   \n",
      "24   3   2   3   4   2  107   1   0   0   1  ...  0.56  0.571429  0.011429   \n",
      "25   2   2   1   3   1   89   0   0   0   0  ...  0.36  0.000000 -0.360000   \n",
      "26   4   4   4   4   4  110   1   0   0   1  ...  0.80  0.571429 -0.228571   \n",
      "27   4   4   4   4   4  109   1   1   0   0  ...  0.80  0.571429 -0.228571   \n",
      "28   3   4   4   3   4  112   1   1   1   1  ...  0.72  1.000000  0.280000   \n",
      "29   4   3   3   2   3  103   1   0   0   1  ...  0.60  0.571429 -0.028571   \n",
      "30   2   3   2   1   2   84   0   0   0   1  ...  0.40  0.285714 -0.114286   \n",
      "31   3   3   4   3   3  120   1   1   1   1  ...  0.64  1.000000  0.360000   \n",
      "32   4   4   4   4   4  106   1   0   0   1  ...  0.80  0.428571 -0.371429   \n",
      "33   4   4   4   4   4  108   1   1   0   0  ...  0.80  0.428571 -0.371429   \n",
      "34   4   4   4   4   4  132   1   1   1   1  ...  0.80  1.000000  0.200000   \n",
      "35   4   4   4   4   4  110   1   1   0   1  ...  0.80  0.571429 -0.228571   \n",
      "\n",
      "          C4        C5        C6   C7        C8   C9  Credit  \n",
      "0   0.178571  5.600000  0.000000 -4.0  0.000000 -0.8     500  \n",
      "1   0.714286  1.400000  0.125000 -3.5  0.625000 -0.3     400  \n",
      "2   1.071429  0.933333  0.250000 -3.0  1.250000  0.2     880  \n",
      "3   0.649351  1.540000  0.111111 -4.0  0.555556 -0.4     768  \n",
      "4   1.071429  0.933333  0.250000 -3.0  1.250000  0.2     782  \n",
      "5   0.992063  1.008000  0.142857 -3.0  0.714286 -0.2     764  \n",
      "6   0.238095  4.200000  0.000000 -3.0  0.000000 -0.6     320  \n",
      "7   1.127820  0.886667  0.125000 -3.5  0.625000 -0.3     520  \n",
      "8   0.357143  2.800000  0.000000 -4.5  0.000000 -0.9     460  \n",
      "9   1.530612  0.653333  0.333333 -2.0  1.666667  0.4     897  \n",
      "10  0.178571  5.600000  0.125000 -3.5  0.625000 -0.3     520  \n",
      "11  1.136364  0.880000  0.250000 -3.0  1.250000  0.2     780  \n",
      "12  0.595238  1.680000  0.142857 -3.0  0.714286 -0.2     800  \n",
      "13  1.315789  0.760000  0.250000 -3.0  1.250000  0.2     740  \n",
      "14  1.666667  0.600000  0.333333 -2.0  1.666667  0.4     810  \n",
      "15  1.298701  0.770000  0.250000 -1.5  1.250000  0.1     698  \n",
      "16  1.275510  0.784000  0.500000 -1.0  2.500000  0.6     725  \n",
      "17  0.974026  1.026667  0.250000 -3.0  1.250000  0.2     802  \n",
      "18  0.238095  4.200000  0.000000 -3.0  0.000000 -0.6     550  \n",
      "19  0.357143  2.800000  0.000000 -4.0  0.000000 -0.8     200  \n",
      "20  0.535714  1.866667  0.125000 -3.5  0.625000 -0.3     530  \n",
      "21  1.000000  1.000000  0.200000 -4.0  1.000000  0.0     300  \n",
      "22  1.071429  0.933333  0.250000 -3.0  1.250000  0.2     720  \n",
      "23  1.071429  0.933333  0.250000 -3.0  1.250000  0.2     800  \n",
      "24  1.020408  0.980000  0.000000 -2.0  0.000000 -0.4     705  \n",
      "25  0.000000  0.000000  0.000000 -1.5  0.000000 -0.3     665  \n",
      "26  0.714286  1.400000  0.000000 -4.0  0.000000 -0.8     350  \n",
      "27  0.714286  1.400000  0.125000 -3.5  0.625000 -0.3     420  \n",
      "28  1.388889  0.720000  0.250000 -3.0  1.250000  0.2     780  \n",
      "29  0.952381  1.050000  0.166667 -2.5  0.833333 -0.1     735  \n",
      "30  0.714286  1.400000  0.000000 -2.5  0.000000 -0.5     651  \n",
      "31  1.562500  0.640000  0.333333 -2.0  1.666667  0.4     740  \n",
      "32  0.535714  1.866667  0.000000 -4.0  0.000000 -0.8     330  \n",
      "33  0.535714  1.866667  0.125000 -3.5  0.625000 -0.3     560  \n",
      "34  1.250000  0.800000  0.250000 -3.0  1.250000  0.2     780  \n",
      "35  0.714286  1.400000  0.125000 -3.5  0.625000 -0.3     510  \n",
      "\n",
      "[36 rows x 23 columns]\n",
      "    Credit\n",
      "0      500\n",
      "1      400\n",
      "2      880\n",
      "3      768\n",
      "4      782\n",
      "5      764\n",
      "6      320\n",
      "7      520\n",
      "8      460\n",
      "9      897\n",
      "10     520\n",
      "11     780\n",
      "12     800\n",
      "13     740\n",
      "14     810\n",
      "15     698\n",
      "16     725\n",
      "17     802\n",
      "18     550\n",
      "19     200\n",
      "20     530\n",
      "21     300\n",
      "22     720\n",
      "23     800\n",
      "24     705\n",
      "25     665\n",
      "26     350\n",
      "27     420\n",
      "28     780\n",
      "29     735\n",
      "30     651\n",
      "31     740\n",
      "32     330\n",
      "33     560\n",
      "34     780\n",
      "35     510\n"
     ]
    }
   ],
   "source": [
    "#assign values to X and y and print them\n",
    "X=df[['A1', 'A2', 'A3', 'A4', 'A5', 'IQ', 'B1', 'B2', 'B3', 'B4', 'B5', 'B6', 'B7', 'C1','C2','C3','C4','C5','C6','C7','C8','C9', 'Credit']]\n",
    "y=df[['Credit']]\n",
    "print(X)\n",
    "print(y)"
   ]
  },
  {
   "cell_type": "code",
   "execution_count": 87,
   "id": "2bafa086",
   "metadata": {},
   "outputs": [],
   "source": [
    "#normalise x values\n",
    "min_max_scaler = preprocessing.MinMaxScaler()\n",
    "df_scaled = min_max_scaler.fit_transform(df)\n",
    "\n",
    "df = pd.DataFrame(df)"
   ]
  },
  {
   "cell_type": "code",
   "execution_count": 88,
   "id": "ba46417f",
   "metadata": {},
   "outputs": [],
   "source": [
    "X = df['C3'].values.reshape(-1,1)\n",
    "y = df['Credit'].values"
   ]
  },
  {
   "cell_type": "code",
   "execution_count": 89,
   "id": "27e271d3",
   "metadata": {},
   "outputs": [],
   "source": [
    "ols = linear_model.LinearRegression()\n",
    "model = ols.fit(X, y)\n",
    "response = model.predict(X)"
   ]
  },
  {
   "cell_type": "code",
   "execution_count": 90,
   "id": "37939e58",
   "metadata": {},
   "outputs": [],
   "source": [
    "r2 = model.score(X, y)"
   ]
  },
  {
   "cell_type": "code",
   "execution_count": 91,
   "id": "a7dc080f",
   "metadata": {},
   "outputs": [
    {
     "data": {
      "image/png": "[encoded data removed]",
      "text/plain": [
       "<Figure size 800x400 with 1 Axes>"
      ]
     },
     "metadata": {},
     "output_type": "display_data"
    }
   ],
   "source": [
    "plt.style.use('default')\n",
    "plt.style.use('ggplot')\n",
    "\n",
    "fig, ax = plt.subplots(figsize=(8, 4))\n",
    "\n",
    "ax.plot(X, response, color='red', label='Regression Model', alpha=0.5)\n",
    "ax.scatter(X, y, edgecolor='grey', facecolor='grey', alpha=0.9, label='Credit Score Predictor',s=9,color='r')\n",
    "ax.set_ylabel('Credit Score', fontsize=10,color='r',alpha=0.5)\n",
    "ax.set_xlabel('C3', fontsize=10, color='r', alpha=0.5)\n",
    "ax.grid(color='r', linewidth=0.3, alpha=0.5)\n",
    "ax.tick_params(colors='r', size=0.5,)\n",
    "\n",
    "ax.legend(facecolor='grey', fontsize=8)\n",
    "ax.set_title('$R^2= %.2f$' % r2, fontsize=18, color='r', alpha=0.5)\n",
    "ax.patch.set_facecolor('black')\n",
    "fig.patch.set_facecolor('black')\n",
    "fig.patch.set_alpha(0.9)\n",
    "fig.tight_layout()"
   ]
  },
  {
   "cell_type": "code",
   "execution_count": 92,
   "id": "b31d81c3",
   "metadata": {},
   "outputs": [],
   "source": [
    "X = df['C4'].values.reshape(-1,1)\n",
    "y = df['Credit'].values"
   ]
  },
  {
   "cell_type": "code",
   "execution_count": 93,
   "id": "0a621e3e",
   "metadata": {},
   "outputs": [],
   "source": [
    "ols = linear_model.LinearRegression()\n",
    "model = ols.fit(X, y)\n",
    "response = model.predict(X)"
   ]
  },
  {
   "cell_type": "code",
   "execution_count": 94,
   "id": "0e377629",
   "metadata": {},
   "outputs": [],
   "source": [
    "r2 = model.score(X, y)"
   ]
  },
  {
   "cell_type": "code",
   "execution_count": 95,
   "id": "af5425a3",
   "metadata": {},
   "outputs": [
    {
     "data": {
      "image/png": "[encoded data removed]",
      "text/plain": [
       "<Figure size 800x400 with 1 Axes>"
      ]
     },
     "metadata": {},
     "output_type": "display_data"
    }
   ],
   "source": [
    "plt.style.use('default')\n",
    "plt.style.use('ggplot')\n",
    "\n",
    "fig, ax = plt.subplots(figsize=(8, 4))\n",
    "\n",
    "ax.plot(X, response, color='red', label='Regression Model', alpha=0.5)\n",
    "ax.scatter(X, y, edgecolor='grey', facecolor='grey', alpha=0.9, label='Credit Score Predictor',s=9,color='r')\n",
    "ax.set_ylabel('Credit Score', fontsize=10,color='r',alpha=0.5)\n",
    "ax.set_xlabel('C4', fontsize=10, color='r', alpha=0.5)\n",
    "ax.grid(color='r', linewidth=0.3, alpha=0.5)\n",
    "ax.tick_params(colors='r', size=0.5,)\n",
    "\n",
    "ax.legend(facecolor='grey', fontsize=8)\n",
    "ax.set_title('$R^2= %.2f$' % r2, fontsize=18, color='r', alpha=0.5)\n",
    "ax.patch.set_facecolor('black')\n",
    "fig.patch.set_facecolor('black')\n",
    "fig.patch.set_alpha(0.9)\n",
    "fig.tight_layout()"
   ]
  },
  {
   "cell_type": "code",
   "execution_count": 96,
   "id": "8d824920",
   "metadata": {},
   "outputs": [],
   "source": [
    "X = df['C6'].values.reshape(-1,1)\n",
    "y = df['Credit'].values"
   ]
  },
  {
   "cell_type": "code",
   "execution_count": 97,
   "id": "b31c36ab",
   "metadata": {},
   "outputs": [],
   "source": [
    "ols = linear_model.LinearRegression()\n",
    "model = ols.fit(X, y)\n",
    "response = model.predict(X)"
   ]
  },
  {
   "cell_type": "code",
   "execution_count": 98,
   "id": "7a51bb28",
   "metadata": {},
   "outputs": [],
   "source": [
    "r2 = model.score(X, y)"
   ]
  },
  {
   "cell_type": "code",
   "execution_count": 99,
   "id": "e762d475",
   "metadata": {},
   "outputs": [
    {
     "data": {
      "image/png": "[encoded data removed]",
      "text/plain": [
       "<Figure size 800x400 with 1 Axes>"
      ]
     },
     "metadata": {},
     "output_type": "display_data"
    }
   ],
   "source": [
    "plt.style.use('default')\n",
    "plt.style.use('ggplot')\n",
    "\n",
    "fig, ax = plt.subplots(figsize=(8, 4))\n",
    "\n",
    "ax.plot(X, response, color='red', label='Regression Model', alpha=0.5)\n",
    "ax.scatter(X, y, edgecolor='grey', facecolor='grey', alpha=0.9, label='Credit Score Predictor',s=9,color='r')\n",
    "ax.set_ylabel('Credit Score', fontsize=10,color='r',alpha=0.5)\n",
    "ax.set_xlabel('C6', fontsize=10, color='r', alpha=0.5)\n",
    "ax.grid(color='r', linewidth=0.3, alpha=0.5)\n",
    "ax.tick_params(colors='r', size=0.5,)\n",
    "\n",
    "ax.legend(facecolor='grey', fontsize=8)\n",
    "ax.set_title('$R^2= %.2f$' % r2, fontsize=18, color='r', alpha=0.5)\n",
    "ax.patch.set_facecolor('black')\n",
    "fig.patch.set_facecolor('black')\n",
    "fig.patch.set_alpha(0.9)\n",
    "fig.tight_layout()"
   ]
  },
  {
   "cell_type": "code",
   "execution_count": 100,
   "id": "f62ca12d",
   "metadata": {},
   "outputs": [],
   "source": [
    "X = df['C8'].values.reshape(-1,1)\n",
    "y = df['Credit'].values"
   ]
  },
  {
   "cell_type": "code",
   "execution_count": 101,
   "id": "4b316039",
   "metadata": {},
   "outputs": [],
   "source": [
    "ols = linear_model.LinearRegression()\n",
    "model = ols.fit(X, y)\n",
    "response = model.predict(X)"
   ]
  },
  {
   "cell_type": "code",
   "execution_count": 102,
   "id": "b52cb461",
   "metadata": {},
   "outputs": [],
   "source": [
    "r2 = model.score(X, y)"
   ]
  },
  {
   "cell_type": "code",
   "execution_count": 103,
   "id": "cb2a71da",
   "metadata": {},
   "outputs": [
    {
     "data": {
      "image/png": "[encoded data removed]",
      "text/plain": [
       "<Figure size 800x400 with 1 Axes>"
      ]
     },
     "metadata": {},
     "output_type": "display_data"
    }
   ],
   "source": [
    "plt.style.use('default')\n",
    "plt.style.use('ggplot')\n",
    "\n",
    "fig, ax = plt.subplots(figsize=(8, 4))\n",
    "\n",
    "ax.plot(X, response, color='red', label='Regression Model', alpha=0.5)\n",
    "ax.scatter(X, y, edgecolor='grey', facecolor='grey', alpha=0.9, label='Credit Score Predictor',s=9,color='r')\n",
    "ax.set_ylabel('Credit Score', fontsize=10,color='r',alpha=0.5)\n",
    "ax.set_xlabel('C8', fontsize=10, color='r', alpha=0.5)\n",
    "ax.grid(color='r', linewidth=0.3, alpha=0.5)\n",
    "ax.tick_params(colors='r', size=0.5,)\n",
    "\n",
    "ax.legend(facecolor='grey', fontsize=8)\n",
    "ax.set_title('$R^2= %.2f$' % r2, fontsize=18, color='r', alpha=0.5)\n",
    "ax.patch.set_facecolor('black')\n",
    "fig.patch.set_facecolor('black')\n",
    "fig.patch.set_alpha(0.9)\n",
    "fig.tight_layout()"
   ]
  },
  {
   "cell_type": "code",
   "execution_count": 104,
   "id": "fe4e8f93",
   "metadata": {},
   "outputs": [],
   "source": [
    "X = df['C9'].values.reshape(-1,1)\n",
    "y = df['Credit'].values"
   ]
  },
  {
   "cell_type": "code",
   "execution_count": 105,
   "id": "89d0f10f",
   "metadata": {},
   "outputs": [],
   "source": [
    "ols = linear_model.LinearRegression()\n",
    "model = ols.fit(X, y)\n",
    "response = model.predict(X)"
   ]
  },
  {
   "cell_type": "code",
   "execution_count": 106,
   "id": "a1176b89",
   "metadata": {},
   "outputs": [],
   "source": [
    "r2 = model.score(X, y)"
   ]
  },
  {
   "cell_type": "code",
   "execution_count": 107,
   "id": "10833591",
   "metadata": {},
   "outputs": [
    {
     "data": {
      "image/png": "[encoded data removed]",
      "text/plain": [
       "<Figure size 800x400 with 1 Axes>"
      ]
     },
     "metadata": {},
     "output_type": "display_data"
    }
   ],
   "source": [
    "plt.style.use('default')\n",
    "plt.style.use('ggplot')\n",
    "\n",
    "fig, ax = plt.subplots(figsize=(8, 4))\n",
    "\n",
    "ax.plot(X, response, color='red', label='Regression Model', alpha=0.5)\n",
    "ax.scatter(X, y, edgecolor='grey', facecolor='grey', alpha=0.9, label='Credit Score Predictor',s=9,color='r')\n",
    "ax.set_ylabel('Credit Score', fontsize=10,color='r',alpha=0.5)\n",
    "ax.set_xlabel('C9', fontsize=10, color='r', alpha=0.5)\n",
    "ax.grid(color='r', linewidth=0.3, alpha=0.5)\n",
    "ax.tick_params(colors='r', size=0.5,)\n",
    "\n",
    "ax.legend(facecolor='grey', fontsize=8)\n",
    "ax.set_title('$R^2= %.2f$' % r2, fontsize=18, color='r', alpha=0.5)\n",
    "ax.patch.set_facecolor('black')\n",
    "fig.patch.set_facecolor('black')\n",
    "fig.patch.set_alpha(0.9)\n",
    "fig.tight_layout()"
   ]
  },
  {
   "cell_type": "code",
   "execution_count": 108,
   "id": "3359bf0b",
   "metadata": {},
   "outputs": [],
   "source": [
    "features = ['C9']\n",
    "target = 'Credit'\n",
    "\n",
    "X = df[features].values.reshape(-1, len(features))\n",
    "y = df[target].values"
   ]
  },
  {
   "cell_type": "code",
   "execution_count": 109,
   "id": "15e0fd47",
   "metadata": {},
   "outputs": [
    {
     "name": "stdout",
     "output_type": "stream",
     "text": [
      "(36, 1)\n",
      "(36,)\n"
     ]
    }
   ],
   "source": [
    "print(X.shape)\n",
    "print(y.shape)"
   ]
  },
  {
   "cell_type": "code",
   "execution_count": 110,
   "id": "4f1e0b61",
   "metadata": {},
   "outputs": [],
   "source": [
    "from sklearn import linear_model\n",
    "\n",
    "ols = linear_model.LinearRegression()\n",
    "model = ols.fit(X, y)"
   ]
  },
  {
   "cell_type": "code",
   "execution_count": 111,
   "id": "9d97525f",
   "metadata": {},
   "outputs": [
    {
     "data": {
      "text/plain": [
       "array([337.93270161])"
      ]
     },
     "execution_count": 111,
     "metadata": {},
     "output_type": "execute_result"
    }
   ],
   "source": [
    "model.coef_"
   ]
  },
  {
   "cell_type": "code",
   "execution_count": 112,
   "id": "81b490bf",
   "metadata": {},
   "outputs": [
    {
     "data": {
      "text/plain": [
       "679.2224908141559"
      ]
     },
     "execution_count": 112,
     "metadata": {},
     "output_type": "execute_result"
    }
   ],
   "source": [
    "model.intercept_"
   ]
  },
  {
   "cell_type": "code",
   "execution_count": 113,
   "id": "75a17087",
   "metadata": {},
   "outputs": [
    {
     "data": {
      "text/plain": [
       "0.5443015672758651"
      ]
     },
     "execution_count": 113,
     "metadata": {},
     "output_type": "execute_result"
    }
   ],
   "source": [
    "model.score(X, y)"
   ]
  },
  {
   "cell_type": "code",
   "execution_count": 114,
   "id": "c1629b73",
   "metadata": {},
   "outputs": [],
   "source": [
    "x_pred = np.array([0.2]) #input value predictor\n",
    "x_pred = x_pred.reshape(-1, len(features))  # preprocessing required by scikit-learn functions"
   ]
  },
  {
   "cell_type": "code",
   "execution_count": 115,
   "id": "3aa641bd",
   "metadata": {},
   "outputs": [
    {
     "data": {
      "text/plain": [
       "array([746.80903114])"
      ]
     },
     "execution_count": 115,
     "metadata": {},
     "output_type": "execute_result"
    }
   ],
   "source": [
    "model.predict(x_pred) #predict credit score with one variable"
   ]
  },
  {
   "cell_type": "code",
   "execution_count": 116,
   "id": "fa26a5e4",
   "metadata": {},
   "outputs": [],
   "source": [
    "x_pred = np.array([0.2, 0.3])#multiple input values of predictor\n",
    "x_pred = x_pred.reshape(-1, len(features))  # preprocessing required by scikit-learn functions"
   ]
  },
  {
   "cell_type": "code",
   "execution_count": 117,
   "id": "972d8ccb",
   "metadata": {},
   "outputs": [
    {
     "data": {
      "text/plain": [
       "array([746.80903114, 780.6023013 ])"
      ]
     },
     "execution_count": 117,
     "metadata": {},
     "output_type": "execute_result"
    }
   ],
   "source": [
    "model.predict(x_pred) #predict credit score with multiple instances of the same variable"
   ]
  },
  {
   "cell_type": "code",
   "execution_count": 118,
   "id": "10863131",
   "metadata": {},
   "outputs": [],
   "source": [
    "x_pred = np.linspace(0,0.5, 40)            \n",
    "x_pred = x_pred.reshape(-1, len(features))  # preprocessing required by scikit-learn functions\n",
    "\n",
    "y_pred = model.predict(x_pred)"
   ]
  },
  {
   "cell_type": "code",
   "execution_count": 119,
   "id": "aec069ea",
   "metadata": {},
   "outputs": [
    {
     "data": {
      "text/plain": [
       "Text(0.55, 0.15, '$y = 337.93 x_1 - 679.22 $')"
      ]
     },
     "execution_count": 119,
     "metadata": {},
     "output_type": "execute_result"
    },
    {
     "data": {
      "image/png": "[encoded data removed]",
      "text/plain": [
       "<Figure size 700x350 with 1 Axes>"
      ]
     },
     "metadata": {},
     "output_type": "display_data"
    }
   ],
   "source": [
    "plt.style.use('default')\n",
    "plt.style.use('ggplot')\n",
    "\n",
    "fig, ax = plt.subplots(figsize=(7, 3.5))\n",
    "\n",
    "ax.plot(x_pred, y_pred,  color='red', label='Regression model',alpha=0.5)\n",
    "\n",
    "\n",
    "\n",
    "\n",
    "\n",
    "ax.grid(color='r', linewidth=0.3, alpha=0.5)\n",
    "ax.tick_params(colors='r', size=0.5,)\n",
    "\n",
    "ax.set_title('$R^2= %.2f$' % r2, fontsize=18, color='r', alpha=0.5)\n",
    "ax.patch.set_facecolor('black')\n",
    "fig.patch.set_facecolor('black')\n",
    "fig.patch.set_alpha(0.9)\n",
    "fig.tight_layout()\n",
    "\n",
    "\n",
    "ax.scatter(X, y, edgecolor='grey', facecolor='grey', alpha=0.9, label='Credit Score Predictor',s=9,color='r')\n",
    "ax.set_ylabel('Credit Score', fontsize=10,color='r',alpha=0.5)\n",
    "ax.set_xlabel('C9', fontsize=10, color='r', alpha=0.5)\n",
    "ax.legend(facecolor='grey', fontsize=8)\n",
    "ax.text(0.55, 0.15, '$y = %.2f x_1 - %.2f $' % (model.coef_[0], abs(model.intercept_)), fontsize=9, transform=ax.transAxes)\n"
   ]
  },
  {
   "cell_type": "code",
   "execution_count": 120,
   "id": "d7251789",
   "metadata": {},
   "outputs": [],
   "source": [
    "ols = linear_model.LinearRegression(fit_intercept=False)\n",
    "model = ols.fit(X, y)"
   ]
  },
  {
   "cell_type": "code",
   "execution_count": 121,
   "id": "d8a9f146",
   "metadata": {},
   "outputs": [
    {
     "data": {
      "text/plain": [
       "0.0"
      ]
     },
     "execution_count": 121,
     "metadata": {},
     "output_type": "execute_result"
    }
   ],
   "source": [
    "model.intercept_"
   ]
  },
  {
   "cell_type": "code",
   "execution_count": 122,
   "id": "33381330",
   "metadata": {},
   "outputs": [],
   "source": [
    "features = ['C3','C5','C4','C1','B6','B2','IQ','C6','C7']\n",
    "target = 'Credit'\n",
    "\n",
    "X = df[features].values.reshape(-1, len(features))\n",
    "y = df[target].values\n",
    "\n",
    "ols = linear_model.LinearRegression()\n",
    "model = ols.fit(X, y)"
   ]
  },
  {
   "cell_type": "code",
   "execution_count": 123,
   "id": "dd717264",
   "metadata": {},
   "outputs": [
    {
     "data": {
      "text/plain": [
       "array([ -866.1590123 ,   -18.56122731,   467.61053165, -1287.39177905,\n",
       "         371.35629397,   352.30836124,     6.30162928, -1525.84237219,\n",
       "          32.36296234])"
      ]
     },
     "execution_count": 123,
     "metadata": {},
     "output_type": "execute_result"
    }
   ],
   "source": [
    "model.coef_"
   ]
  },
  {
   "cell_type": "code",
   "execution_count": 124,
   "id": "9fde7132",
   "metadata": {},
   "outputs": [
    {
     "data": {
      "text/plain": [
       "297.9162224101457"
      ]
     },
     "execution_count": 124,
     "metadata": {},
     "output_type": "execute_result"
    }
   ],
   "source": [
    "model.intercept_"
   ]
  },
  {
   "cell_type": "code",
   "execution_count": 125,
   "id": "14ec45f2",
   "metadata": {},
   "outputs": [
    {
     "data": {
      "text/plain": [
       "0.7419056081409501"
      ]
     },
     "execution_count": 125,
     "metadata": {},
     "output_type": "execute_result"
    }
   ],
   "source": [
    "model.score(X, y) #Print model accuracy"
   ]
  },
  {
   "cell_type": "code",
   "execution_count": null,
   "id": "0dfc3f67-5f62-421b-bb74-549d653a8448",
   "metadata": {},
   "outputs": [],
   "source": []
  }
 ],
 "metadata": {
  "kernelspec": {
   "display_name": "Python 3 (ipykernel)",
   "language": "python",
   "name": "python3"
  },
  "language_info": {
   "codemirror_mode": {
    "name": "ipython",
    "version": 3
   },
   "file_extension": ".py",
   "mimetype": "text/x-python",
   "name": "python",
   "nbconvert_exporter": "python",
   "pygments_lexer": "ipython3",
   "version": "3.10.12"
  }
 },
 "nbformat": 4,
 "nbformat_minor": 5
}
